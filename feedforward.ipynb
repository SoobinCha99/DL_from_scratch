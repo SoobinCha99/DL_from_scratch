{
 "cells": [
  {
   "cell_type": "code",
   "execution_count": 1,
   "metadata": {},
   "outputs": [],
   "source": [
    "import numpy as np"
   ]
  },
  {
   "cell_type": "code",
   "execution_count": 78,
   "metadata": {},
   "outputs": [
    {
     "name": "stdout",
     "output_type": "stream",
     "text": [
      "[[2.63166327 2.94813814]]\n"
     ]
    }
   ],
   "source": [
    "def identity_function(x): \n",
    "    return x \n",
    "\n",
    "def sigmoid_function(x): \n",
    "    output = 1 / 1+ np.exp(-x)\n",
    "    return output \n",
    "\n",
    "def relu_function(x):\n",
    "    return np.maximum(0,x) \n",
    "\n",
    "def init_network(): \n",
    "    network = {} \n",
    "    network[\"W1\"] = np.random.rand(2,3)\n",
    "    network[\"b1\"] = np.random.rand(3,)\n",
    "    network[\"W2\"] = np.random.rand(3,3)\n",
    "    network[\"b2\"] = np.random.rand(3,)\n",
    "    network[\"W3\"] = np.random.rand(3,2)\n",
    "    network[\"b3\"] = np.random.rand(2,)\n",
    "\n",
    "    return network\n",
    "    \n",
    "def feed_forward(network, x):\n",
    "    W1, W2, W3 = network[\"W1\"], network[\"W2\"], network[\"W3\"]\n",
    "    b1, b2, b3 = network[\"b1\"], network[\"b2\"], network[\"b3\"] \n",
    "\n",
    "    a1 = np.dot(x,W1) + b1 \n",
    "    z1 = sigmoid_function(a1)\n",
    "    a2 = np.dot(z1,W2) + b2 \n",
    "    z2 = sigmoid_function(a2) \n",
    "    a3 = np.dot(z2,W3) + b3 \n",
    "    y = identity_function(a3)\n",
    "\n",
    "    return y\n",
    "\n",
    "x = np.random.rand(1,2)\n",
    "net = init_network() \n",
    "output = feed_forward(net,x)\n",
    "print(output)"
   ]
  },
  {
   "cell_type": "code",
   "execution_count": null,
   "metadata": {},
   "outputs": [],
   "source": []
  },
  {
   "cell_type": "code",
   "execution_count": null,
   "metadata": {},
   "outputs": [],
   "source": []
  }
 ],
 "metadata": {
  "kernelspec": {
   "display_name": "Python 3.7.13 ('main')",
   "language": "python",
   "name": "python3"
  },
  "language_info": {
   "codemirror_mode": {
    "name": "ipython",
    "version": 3
   },
   "file_extension": ".py",
   "mimetype": "text/x-python",
   "name": "python",
   "nbconvert_exporter": "python",
   "pygments_lexer": "ipython3",
   "version": "3.7.13"
  },
  "orig_nbformat": 4,
  "vscode": {
   "interpreter": {
    "hash": "b98918487499e9eace60228dcc2a616d39dc470c6c38c5f5762d388d3648139d"
   }
  }
 },
 "nbformat": 4,
 "nbformat_minor": 2
}
